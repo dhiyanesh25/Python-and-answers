{
  "nbformat": 4,
  "nbformat_minor": 0,
  "metadata": {
    "colab": {
      "provenance": []
    },
    "kernelspec": {
      "name": "python3",
      "display_name": "Python 3"
    },
    "language_info": {
      "name": "python"
    }
  },
  "cells": [
    {
      "cell_type": "markdown",
      "source": [
        "1)\n",
        "Create a custom exception class InvalidAgeError that is raised when an invalid age is provided to a function check_age. The check_age function should raise this exception if the age is not between 0 and 120. Demonstrate the functionality by calling check_age with various inputs."
      ],
      "metadata": {
        "id": "LkyaDu9gwEKR"
      }
    },
    {
      "cell_type": "code",
      "execution_count": 1,
      "metadata": {
        "colab": {
          "base_uri": "https://localhost:8080/"
        },
        "id": "bm-eSXh_u6Pr",
        "outputId": "9a24fb33-4dbc-43e2-d867-d31b0859073a"
      },
      "outputs": [
        {
          "output_type": "stream",
          "name": "stdout",
          "text": [
            "Age 25 is valid.\n",
            "InvalidAgeError: -1 is not a valid age. Age must be between 0 and 120\n"
          ]
        }
      ],
      "source": [
        "class InvalidAgeError(Exception):\n",
        "    def __init__(self, age, message=\"Age must be between 0 and 120\"):\n",
        "        self.age = age\n",
        "        self.message = message\n",
        "        super().__init__(self.message)\n",
        "\n",
        "def check_age(age):\n",
        "    if age < 0 or age > 120:\n",
        "        raise InvalidAgeError(age)\n",
        "    else:\n",
        "        print(f\"Age {age} is valid.\")\n",
        "\n",
        "try:\n",
        "    check_age(25)\n",
        "    check_age(-1)\n",
        "except InvalidAgeError as e:\n",
        "    print(f\"InvalidAgeError: {e.age} is not a valid age. {e.message}\")\n"
      ]
    },
    {
      "cell_type": "markdown",
      "source": [
        "2)\n",
        "Create a function read_file that opens a file, reads its contents, and ensures that the file is closed properly using a finally block, even if an exception occurs. Demonstrate the functionality by reading from a non-existent file to trigger an exception."
      ],
      "metadata": {
        "id": "pefttKfiwW23"
      }
    },
    {
      "cell_type": "code",
      "source": [
        "def read_file(filename):\n",
        "    try:\n",
        "        file = open(filename, 'r')\n",
        "        content = file.read()\n",
        "        print(content)\n",
        "    except FileNotFoundError as e:\n",
        "        print(f\"Error: {e}\")\n",
        "    finally:\n",
        "        if 'file' in locals() and not file.closed:\n",
        "            file.close()\n",
        "            print(\"File closed.\")\n",
        "\n",
        "read_file(\"non_existent_file.txt\")\n",
        "\n"
      ],
      "metadata": {
        "colab": {
          "base_uri": "https://localhost:8080/"
        },
        "id": "Hh02HTqkwMpq",
        "outputId": "4a6e0aeb-dc2f-4b8f-aaab-fc0d0a4bfb74"
      },
      "execution_count": 2,
      "outputs": [
        {
          "output_type": "stream",
          "name": "stdout",
          "text": [
            "Error: [Errno 2] No such file or directory: 'non_existent_file.txt'\n"
          ]
        }
      ]
    },
    {
      "cell_type": "code",
      "source": [],
      "metadata": {
        "id": "IhsCetrnwhx4"
      },
      "execution_count": null,
      "outputs": []
    }
  ]
}