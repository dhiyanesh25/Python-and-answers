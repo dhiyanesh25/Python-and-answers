{
  "nbformat": 4,
  "nbformat_minor": 0,
  "metadata": {
    "colab": {
      "provenance": []
    },
    "kernelspec": {
      "name": "python3",
      "display_name": "Python 3"
    },
    "language_info": {
      "name": "python"
    }
  },
  "cells": [
    {
      "cell_type": "markdown",
      "source": [
        "QN 1 ;\n",
        "CREATE A VEHICLE CLASS USING OOP\n",
        "INCLUDE INITIALIZER COLOUR OF CAR, HOW OLD AND HOW MANY SEATS IN CAR\n"
      ],
      "metadata": {
        "id": "TYN_WPlr8x7T"
      }
    },
    {
      "cell_type": "code",
      "source": [
        "class Vehicle:\n",
        "  def __init__(self,colour_of_car,age_of_car,seats_in_car):\n",
        "    self.colour_ = colour_of_car\n",
        "    self.age_= age_of_car\n",
        "    self.seats_=seats_in_car\n",
        "  def colour(self):\n",
        "    return \"The colour of the car is {}\".format(self.colour_)\n",
        "  def age(self):\n",
        "    return \"The age of the car is {}\".format(self.age_)\n",
        "  def seats(self):\n",
        "    return \"Total Seats in the car is {}\".format(self.seats_)\n",
        "  def car_life_left(self):\n",
        "    return \"The car has {} years left on the road\".format(50 - self.age_)\n",
        "\n",
        "Car = Vehicle(\"red\",40, 4)\n",
        "print(Car.car_life_left())\n",
        "print(Car.seats())\n",
        "print(Car.colour())\n",
        "\n"
      ],
      "metadata": {
        "colab": {
          "base_uri": "https://localhost:8080/"
        },
        "id": "GXz00CuK9FKO",
        "outputId": "1f3c059f-e67e-4838-b5ac-d37cbfded0b0"
      },
      "execution_count": 9,
      "outputs": [
        {
          "output_type": "stream",
          "name": "stdout",
          "text": [
            "The car has 10 years left on the road\n",
            "Total Seats in the car is 4\n",
            "The colour of the car is red\n"
          ]
        }
      ]
    },
    {
      "cell_type": "markdown",
      "source": [],
      "metadata": {
        "id": "IEn02JBUAOMO"
      }
    },
    {
      "cell_type": "markdown",
      "source": [
        "\n",
        "\n",
        "Qn 2 :\n",
        "\n",
        "Write a Python program to create a class representing a Circle. Include methods to calculate its area and perimeter.\n",
        "\n",
        "\n"
      ],
      "metadata": {
        "id": "PHs4zfM3AP2B"
      }
    },
    {
      "cell_type": "code",
      "source": [
        "import math\n",
        "\n",
        "class Circle:\n",
        "    def __init__(self, radius):\n",
        "        self.radius = radius\n",
        "\n",
        "    def area(self):\n",
        "        return math.pi * self.radius ** 2\n",
        "\n",
        "    def perimeter(self):\n",
        "        return 2 * math.pi * self.radius\n",
        "\n",
        "if __name__ == \"__main__\":\n",
        "    radius = 5\n",
        "    circle = Circle(radius)\n",
        "\n",
        "    print(f\"Circle with radius {radius}:\")\n",
        "    print(f\"Area: {circle.area()}\")\n",
        "    print(f\"Perimeter: {circle.perimeter()}\")\n"
      ],
      "metadata": {
        "colab": {
          "base_uri": "https://localhost:8080/"
        },
        "id": "fHE9xSq-BAz2",
        "outputId": "5e652278-08b0-4003-c081-d2b40a640b6e"
      },
      "execution_count": 10,
      "outputs": [
        {
          "output_type": "stream",
          "name": "stdout",
          "text": [
            "Circle with radius 5:\n",
            "Area: 78.53981633974483\n",
            "Perimeter: 31.41592653589793\n"
          ]
        }
      ]
    },
    {
      "cell_type": "markdown",
      "source": [
        "QN3 :\n",
        "Write a Python program to create a calculator class. Include methods for basic arithmetic operations."
      ],
      "metadata": {
        "id": "qa2ESQqzBdv_"
      }
    },
    {
      "cell_type": "code",
      "source": [
        "class Calculator:\n",
        "    def add(self, a, b):\n",
        "        return a + b\n",
        "\n",
        "    def subtract(self, a, b):\n",
        "        return a - b\n",
        "\n",
        "    def multiply(self, a, b):\n",
        "        return a * b\n",
        "\n",
        "    def divide(self, a, b):\n",
        "        if b == 0:\n",
        "            raise ValueError(\"Cannot divide by zero.\")\n",
        "        return a / b\n",
        "if __name__ == \"__main__\":\n",
        "    calc = Calculator()\n",
        "\n",
        "    a = 100\n",
        "    b = 50\n",
        "\n",
        "    print(f\"Addition of {a} and {b}: {calc.add(a, b)}\")\n",
        "    print(f\"Subtraction of {b} from {a}: {calc.subtract(a, b)}\")\n",
        "    print(f\"Multiplication of {a} and {b}: {calc.multiply(a, b)}\")\n",
        "    print(f\"Division of {a} by {b}: {calc.divide(a, b)}\")\n"
      ],
      "metadata": {
        "colab": {
          "base_uri": "https://localhost:8080/"
        },
        "id": "K1WWWhXFBQfK",
        "outputId": "1a1a1200-ad52-404c-df98-1b1632cc30f8"
      },
      "execution_count": 13,
      "outputs": [
        {
          "output_type": "stream",
          "name": "stdout",
          "text": [
            "Addition of 100 and 50: 150\n",
            "Subtraction of 50 from 100: 50\n",
            "Multiplication of 100 and 50: 5000\n",
            "Division of 100 by 50: 2.0\n"
          ]
        }
      ]
    },
    {
      "cell_type": "code",
      "source": [],
      "metadata": {
        "id": "TD5IS5mOC6Mc"
      },
      "execution_count": null,
      "outputs": []
    }
  ]
}