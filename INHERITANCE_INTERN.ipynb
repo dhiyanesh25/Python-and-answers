{
  "nbformat": 4,
  "nbformat_minor": 0,
  "metadata": {
    "colab": {
      "provenance": []
    },
    "kernelspec": {
      "name": "python3",
      "display_name": "Python 3"
    },
    "language_info": {
      "name": "python"
    }
  },
  "cells": [
    {
      "cell_type": "code",
      "execution_count": null,
      "metadata": {
        "id": "LgqJWMnesfhm"
      },
      "outputs": [],
      "source": []
    },
    {
      "cell_type": "markdown",
      "source": [
        "QN1 )\n",
        "Create a base class called Animal with methods speak and move. Create a derived class called Dog that inherits from Animal and overrides the speak method to print \"Bark\". Demonstrate the functionality by creating an instance of Dog and calling its methods."
      ],
      "metadata": {
        "id": "1--DmNJTsrw_"
      }
    },
    {
      "cell_type": "code",
      "source": [
        "class Animal:\n",
        "    def speak(self):\n",
        "        print(\"Animal sound\")\n",
        "\n",
        "    def move(self):\n",
        "        print(\"Animal moves\")\n",
        "\n",
        "class Dog(Animal):\n",
        "    def speak(self):\n",
        "        print(\"Bark\")\n",
        "\n",
        "\n",
        "dog = Dog()\n",
        "dog.speak()\n",
        "dog.move()"
      ],
      "metadata": {
        "colab": {
          "base_uri": "https://localhost:8080/"
        },
        "id": "dBHwUzUoswVJ",
        "outputId": "b129e471-fdf1-4c6c-9417-e2863e7967f7"
      },
      "execution_count": 1,
      "outputs": [
        {
          "output_type": "stream",
          "name": "stdout",
          "text": [
            "Bark\n",
            "Animal moves\n"
          ]
        }
      ]
    },
    {
      "cell_type": "markdown",
      "source": [
        "QN2)\n",
        "Create two base classes Bird and Fish. The Bird class should have a method fly, and the Fish class should have a method swim. Create a derived class FlyingFish that inherits from both Bird and Fish. Demonstrate the functionality by creating an instance of FlyingFish and calling its methods."
      ],
      "metadata": {
        "id": "BWCsNd1jtUNZ"
      }
    },
    {
      "cell_type": "code",
      "source": [
        "class Bird:\n",
        "    def fly(self):\n",
        "        print(\"Flying\")\n",
        "\n",
        "class Fish:\n",
        "    def swim(self):\n",
        "        print(\"Swimming\")\n",
        "\n",
        "class FlyingFish(Bird, Fish):\n",
        "    pass\n",
        "flying_fish = FlyingFish()\n",
        "flying_fish.fly()\n",
        "flying_fish.swim()\n"
      ],
      "metadata": {
        "colab": {
          "base_uri": "https://localhost:8080/"
        },
        "id": "VkWZyMuXsyRU",
        "outputId": "2c1ea105-d968-4004-9178-83ad0073e582"
      },
      "execution_count": 3,
      "outputs": [
        {
          "output_type": "stream",
          "name": "stdout",
          "text": [
            "Flying\n",
            "Swimming\n"
          ]
        }
      ]
    },
    {
      "cell_type": "markdown",
      "source": [
        "3)\n",
        "Create a base class Vehicle with an __init__ method that initializes speed. Create a derived class Car that initializes speed and brand. Use the super() function to call the __init__ method of the base class."
      ],
      "metadata": {
        "id": "z_Rpsm7MtzgA"
      }
    },
    {
      "cell_type": "code",
      "source": [
        "class Vehicle:\n",
        "    def __init__(self, speed):\n",
        "        self.speed = speed\n",
        "\n",
        "class Car(Vehicle):\n",
        "    def __init__(self, speed, brand):\n",
        "        super().__init__(speed)\n",
        "        self.brand = brand\n",
        "\n",
        "car = Car(280, \"BUGGATI\")\n",
        "print(car.speed)\n",
        "print(car.brand)\n"
      ],
      "metadata": {
        "colab": {
          "base_uri": "https://localhost:8080/"
        },
        "id": "JHBOhiWytbBz",
        "outputId": "c6dc11e9-aa43-4f8d-a894-b1f39b05997b"
      },
      "execution_count": 5,
      "outputs": [
        {
          "output_type": "stream",
          "name": "stdout",
          "text": [
            "280\n",
            "BUGGATI\n"
          ]
        }
      ]
    },
    {
      "cell_type": "code",
      "source": [],
      "metadata": {
        "id": "dv6MVBSwt3FP"
      },
      "execution_count": null,
      "outputs": []
    }
  ]
}