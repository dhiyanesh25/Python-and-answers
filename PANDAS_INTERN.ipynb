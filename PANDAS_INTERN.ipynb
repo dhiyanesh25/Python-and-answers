{
  "nbformat": 4,
  "nbformat_minor": 0,
  "metadata": {
    "colab": {
      "provenance": []
    },
    "kernelspec": {
      "name": "python3",
      "display_name": "Python 3"
    },
    "language_info": {
      "name": "python"
    }
  },
  "cells": [
    {
      "cell_type": "markdown",
      "source": [],
      "metadata": {
        "id": "aTBwPlJZi-64"
      }
    },
    {
      "cell_type": "markdown",
      "source": [
        "QN1)\n",
        "Create a Pandas DataFrame from List of Dicts"
      ],
      "metadata": {
        "id": "4peGyisLdxzc"
      }
    },
    {
      "cell_type": "code",
      "execution_count": 1,
      "metadata": {
        "colab": {
          "base_uri": "https://localhost:8080/"
        },
        "id": "Se5zPOyvi8QT",
        "outputId": "d05f239e-bb01-48fd-9141-50ede4647d96"
      },
      "outputs": [
        {
          "output_type": "stream",
          "name": "stdout",
          "text": [
            "        NAME AGE MARK\n",
            "1  DHIYANESH  19   75\n",
            "2    ASHWATH  20   85\n"
          ]
        }
      ],
      "source": [
        "import pandas as pd\n",
        "\n",
        "# Initialise data to lists.\n",
        "data = [{'NAME': 'DHIYANESH', 'AGE': '19', 'MARK': '75'},\n",
        "\t\t{'NAME':\"ASHWATH\", 'AGE': 20, 'MARK': 85}]\n",
        "\n",
        "df = pd.DataFrame.from_records(data,index=['1', '2'])\n",
        "print(df)\n"
      ]
    },
    {
      "cell_type": "markdown",
      "source": [
        "QN2)\n",
        "Create a Pandas Series from array"
      ],
      "metadata": {
        "id": "WovKIb_cjH7a"
      }
    },
    {
      "cell_type": "code",
      "source": [
        "\n",
        "import pandas as pd\n",
        "import numpy as np\n",
        "\n",
        "data = np.array(['D', 'H', 'I', 'Y', 'A'])\n",
        "\n",
        "\n",
        "s = pd.Series(data)\n",
        "print(s)\n"
      ],
      "metadata": {
        "colab": {
          "base_uri": "https://localhost:8080/"
        },
        "id": "7eBc0V8WjD8O",
        "outputId": "7d07aefe-b52d-4dce-fc79-d9eae63d5d46"
      },
      "execution_count": 3,
      "outputs": [
        {
          "output_type": "stream",
          "name": "stdout",
          "text": [
            "0    D\n",
            "1    H\n",
            "2    I\n",
            "3    Y\n",
            "4    A\n",
            "dtype: object\n"
          ]
        }
      ]
    },
    {
      "cell_type": "markdown",
      "source": [
        "QN3)\n",
        "Create Pandas Series using NumPy functions\n"
      ],
      "metadata": {
        "id": "bR3pdLkCjStW"
      }
    },
    {
      "cell_type": "code",
      "source": [
        "\n",
        "import pandas as pd\n",
        "import numpy as np\n",
        "\n",
        "ser1 = pd.Series(np.linspace(1, 40, 4))\n",
        "print(ser1)\n",
        "\n",
        "# series with numpy linspace()\n",
        "ser2 = pd.Series(np.linspace(1, 100, 10))\n",
        "print(\"\\n\", ser2)\n",
        "\n"
      ],
      "metadata": {
        "colab": {
          "base_uri": "https://localhost:8080/"
        },
        "id": "ZqxvuWaQjL8_",
        "outputId": "1552e8b9-0871-465c-d415-a40d9ea17e95"
      },
      "execution_count": 4,
      "outputs": [
        {
          "output_type": "stream",
          "name": "stdout",
          "text": [
            "0     1.0\n",
            "1    14.0\n",
            "2    27.0\n",
            "3    40.0\n",
            "dtype: float64\n",
            "\n",
            " 0      1.0\n",
            "1     12.0\n",
            "2     23.0\n",
            "3     34.0\n",
            "4     45.0\n",
            "5     56.0\n",
            "6     67.0\n",
            "7     78.0\n",
            "8     89.0\n",
            "9    100.0\n",
            "dtype: float64\n"
          ]
        }
      ]
    },
    {
      "cell_type": "markdown",
      "source": [
        "QN4)\n",
        " Merging DataFrames"
      ],
      "metadata": {
        "id": "9oIZcD45jWM4"
      }
    },
    {
      "cell_type": "code",
      "source": [
        "\n",
        "import pandas as pd\n",
        "\n",
        "# Create a DataFrame\n",
        "data = {\n",
        "    'Name': ['DHIYA', 'ASHWATH', 'ABISHEK', 'KRISHNA'],\n",
        "    'Age': [24, 27, 22, 32],\n",
        "    'Score': [85, 62, 88, 70]\n",
        "}\n",
        "df = pd.DataFrame(data)\n",
        "\n",
        "print(df['Name'])\n",
        "\n",
        "print(df.iloc[1:4])\n"
      ],
      "metadata": {
        "colab": {
          "base_uri": "https://localhost:8080/"
        },
        "id": "gFiWiM2_jU3s",
        "outputId": "457f7dad-7b0f-46d8-e591-2652bbc9078d"
      },
      "execution_count": 12,
      "outputs": [
        {
          "output_type": "stream",
          "name": "stdout",
          "text": [
            "0      DHIYA\n",
            "1    ASHWATH\n",
            "2    ABISHEK\n",
            "3    KRISHNA\n",
            "Name: Name, dtype: object\n",
            "      Name  Age  Score\n",
            "1  ASHWATH   27     62\n",
            "2  ABISHEK   22     88\n",
            "3  KRISHNA   32     70\n"
          ]
        }
      ]
    },
    {
      "cell_type": "code",
      "source": [],
      "metadata": {
        "id": "FRvb3AhAjacA"
      },
      "execution_count": null,
      "outputs": []
    }
  ]
}