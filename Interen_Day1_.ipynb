{
  "cells": [
    {
      "cell_type": "code",
      "execution_count": 22,
      "metadata": {
        "colab": {
          "base_uri": "https://localhost:8080/"
        },
        "id": "6d9w1i5k5eWe",
        "outputId": "da173dd3-9275-4d93-d3b6-a0a22e096dbd"
      },
      "outputs": [
        {
          "name": "stdout",
          "output_type": "stream",
          "text": [
            "Rectangle Area: 18\n",
            "Circle Area: 50.26548245743669\n"
          ]
        }
      ],
      "source": [
        "import math\n",
        "\n",
        "def Calculate_area(shape, dimensions):\n",
        "    if shape == \"rectangle\":\n",
        "        if \"length\" in dimensions and \"width\" in dimensions:\n",
        "            l = dimensions[\"length\"]\n",
        "            w = dimensions[\"width\"]\n",
        "            area = l*w\n",
        "        else:\n",
        "            raise ValueError(\" rectangle must include 'length' and 'width'.\")\n",
        "\n",
        "    elif shape == \"circle\":\n",
        "        if \"radius\" in dimensions:\n",
        "            r = dimensions[\"radius\"]\n",
        "            area = math.pi * (r ** 2)\n",
        "        else:\n",
        "            raise ValueError(\"Dimensions for circle must include 'radius'.\")\n",
        "\n",
        "    else:\n",
        "        raise ValueError(\"Unsupported shape. Please use 'rectangle' or 'circle'.\")\n",
        "\n",
        "    return area\n",
        "\n",
        "# Example usage:\n",
        "rectangle_area = Calculate_area(\"rectangle\", {\"length\": 6, \"width\": 3})\n",
        "circle_area = Calculate_area(\"circle\", {\"radius\": 4})\n",
        "\n",
        "print(f\"Rectangle Area: {rectangle_area}\")\n",
        "print(f\"Circle Area: {circle_area}\")\n",
        "\n"
      ]
    },
    {
      "cell_type": "code",
      "execution_count": 23,
      "metadata": {
        "colab": {
          "base_uri": "https://localhost:8080/"
        },
        "id": "jsXqjXyL5rhL",
        "outputId": "40f01a8d-6d5c-4833-9eae-ed3b04c702db"
      },
      "outputs": [
        {
          "name": "stdout",
          "output_type": "stream",
          "text": [
            "Original Text: Hello world this is a test\n",
            "Reversed Words Text: test a is this world Hello\n"
          ]
        }
      ],
      "source": [
        "def reverse_words(text):\n",
        "    words = text.split()\n",
        "    reversed_words = words[::-1]\n",
        "    reversed_text = ' '.join(reversed_words)\n",
        "    return reversed_text\n",
        "\n",
        "input_text = \"Hello world this is a test\"\n",
        "output_text = reverse_words(input_text)\n",
        "\n",
        "print(f\"Original Text: {input_text}\")\n",
        "print(f\"Reversed Words Text: {output_text}\")\n"
      ]
    },
    {
      "cell_type": "code",
      "execution_count": 24,
      "metadata": {
        "colab": {
          "base_uri": "https://localhost:8080/"
        },
        "id": "Xr4e8sEI6ctC",
        "outputId": "536460f8-1c17-428a-9b78-27e5cd7082b0"
      },
      "outputs": [
        {
          "name": "stdout",
          "output_type": "stream",
          "text": [
            "Statistics: {'min': 10, 'max': 50, 'average': 30.0}\n"
          ]
        }
      ],
      "source": [
        "def analyze_list(num):\n",
        "    if not num:\n",
        "        return {\"min\": None, \"max\": None, \"average\": None}\n",
        "\n",
        "    min_value = min(num)\n",
        "    max_value = max(num)\n",
        "    average_value = sum(num) / len(num)\n",
        "\n",
        "    return {\n",
        "        \"min\": min_value,\n",
        "        \"max\": max_value,\n",
        "        \"average\": average_value\n",
        "    }\n",
        "\n",
        "# Example usage:\n",
        "num_list = [10, 20, 30, 40, 50]\n",
        "statistics = analyze_list(num_list)\n",
        "\n",
        "print(f\"Statistics: {statistics}\")\n"
      ]
    },
    {
      "cell_type": "code",
      "execution_count": 25,
      "metadata": {
        "colab": {
          "base_uri": "https://localhost:8080/"
        },
        "id": "LV6Secvx7rMg",
        "outputId": "068c69c6-e904-4566-baaa-a585d8a071c5"
      },
      "outputs": [
        {
          "name": "stdout",
          "output_type": "stream",
          "text": [
            "Filtered Names: ['Date', 'Fig']\n"
          ]
        }
      ],
      "source": [
        "def filter_short_names(names, max_length):\n",
        "    return list(filter(lambda name: len(name) < max_length, names))\n",
        "\n",
        "product_names = [\"Apple\", \"Banana\", \"Cherry\", \"Date\", \"Orange\", \"Fig\", \"Grape\"]\n",
        "max_length = 5\n",
        "filtered_names = filter_short_names(product_names, max_length)\n",
        "\n",
        "print(f\"Filtered Names: {filtered_names}\")\n"
      ]
    },
    {
      "cell_type": "code",
      "execution_count": null,
      "metadata": {
        "id": "abPm-gaQ8w4G"
      },
      "outputs": [],
      "source": []
    }
  ],
  "metadata": {
    "colab": {
      "provenance": []
    },
    "kernelspec": {
      "display_name": "Python 3",
      "name": "python3"
    },
    "language_info": {
      "codemirror_mode": {
        "name": "ipython",
        "version": 3
      },
      "file_extension": ".py",
      "mimetype": "text/x-python",
      "name": "python",
      "nbconvert_exporter": "python",
      "pygments_lexer": "ipython3",
      "version": "3.12.0"
    }
  },
  "nbformat": 4,
  "nbformat_minor": 0
}
