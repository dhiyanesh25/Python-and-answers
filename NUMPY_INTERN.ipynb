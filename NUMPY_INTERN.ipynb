{
  "nbformat": 4,
  "nbformat_minor": 0,
  "metadata": {
    "colab": {
      "provenance": []
    },
    "kernelspec": {
      "name": "python3",
      "display_name": "Python 3"
    },
    "language_info": {
      "name": "python"
    }
  },
  "cells": [
    {
      "cell_type": "markdown",
      "source": [
        "QN1)\n",
        "SUM OF ALL NUMBERS IN MATRIX\n"
      ],
      "metadata": {
        "id": "QjMAWq77k7g3"
      }
    },
    {
      "cell_type": "code",
      "execution_count": 2,
      "metadata": {
        "id": "z-S9VqD_HShy",
        "colab": {
          "base_uri": "https://localhost:8080/"
        },
        "outputId": "3ff8c31c-0779-403a-92f5-80b0cb264d3f"
      },
      "outputs": [
        {
          "output_type": "stream",
          "name": "stdout",
          "text": [
            "The sum of all values in the matrix is: 487\n"
          ]
        }
      ],
      "source": [
        "import numpy as np\n",
        "\n",
        "# Example matrix\n",
        "matrix = np.array([[10,12, 34],\n",
        "                   [45, 65, 69],\n",
        "                   [72, 81, 99]])\n",
        "\n",
        "# Calculate the sum of all values in the matrix\n",
        "total_sum = np.sum(matrix)\n",
        "\n",
        "print(\"The sum of all values in the matrix is:\", total_sum)\n"
      ]
    },
    {
      "cell_type": "markdown",
      "source": [
        "QN2)\n",
        "How to inverse a matrix using NumPy"
      ],
      "metadata": {
        "id": "gtHzxMYBmv3m"
      }
    },
    {
      "cell_type": "code",
      "source": [
        "\n",
        "import numpy as np\n",
        "\n",
        "# Taking a 3 * 3 matrix\n",
        "A = np.array([[2, 0, 1],\n",
        "\t\t\t[4, -2, 4],\n",
        "\t\t\t[2, 5, 7]])\n",
        "\n",
        "# Calculating the inverse of the matrix\n",
        "print(np.linalg.inv(A))\n"
      ],
      "metadata": {
        "colab": {
          "base_uri": "https://localhost:8080/"
        },
        "id": "TXcBdi4ClAC8",
        "outputId": "417ebf0d-ca28-4136-936c-f1357588d6a6"
      },
      "execution_count": 3,
      "outputs": [
        {
          "output_type": "stream",
          "name": "stdout",
          "text": [
            "[[ 0.17647059 -0.00326797 -0.02287582]\n",
            " [ 0.05882353 -0.13071895  0.08496732]\n",
            " [-0.11764706  0.1503268   0.05228758]]\n"
          ]
        }
      ]
    },
    {
      "cell_type": "markdown",
      "source": [
        "3. Find the intersection of two arrays"
      ],
      "metadata": {
        "id": "Ne8ixDKPoIgJ"
      }
    },
    {
      "cell_type": "code",
      "source": [
        "import numpy as np\n",
        "\n",
        "def array_intersection(array1, array2):\n",
        "    return np.intersect1d(array1, array2)\n",
        "\n",
        "# Example usage\n",
        "array1 = np.array([1, 21, 33, 45])\n",
        "array2 = np.array([33, 45, 56, 6])\n",
        "intersection = array_intersection(array1, array2)\n",
        "print(intersection)\n"
      ],
      "metadata": {
        "colab": {
          "base_uri": "https://localhost:8080/"
        },
        "id": "iiS6d1oemqTV",
        "outputId": "44919a2e-0073-4ecb-cb75-9e1a7b737836"
      },
      "execution_count": 5,
      "outputs": [
        {
          "output_type": "stream",
          "name": "stdout",
          "text": [
            "[33 45]\n"
          ]
        }
      ]
    },
    {
      "cell_type": "markdown",
      "source": [
        "QN 4)\n",
        "Multiply a 5x3 matrix by a 3x2 matrix"
      ],
      "metadata": {
        "id": "MelaMEDPqNzx"
      }
    },
    {
      "cell_type": "code",
      "source": [
        "import numpy as np\n",
        "\n",
        "# Example matrices\n",
        "matrix1 = np.random.random((5, 3))\n",
        "matrix2 = np.random.random((3, 2))\n",
        "\n",
        "# Matrix multiplication\n",
        "product = np.dot(matrix1, matrix2)\n",
        "print(product)\n"
      ],
      "metadata": {
        "colab": {
          "base_uri": "https://localhost:8080/"
        },
        "id": "n5GXF0r2n6ka",
        "outputId": "9812fd84-9c00-4df6-dbce-bd3ebc53362f"
      },
      "execution_count": 6,
      "outputs": [
        {
          "output_type": "stream",
          "name": "stdout",
          "text": [
            "[[0.81460778 0.33806974]\n",
            " [1.1614789  0.65489865]\n",
            " [0.88365569 0.22969119]\n",
            " [0.53566317 0.25665331]\n",
            " [0.14227154 0.15830879]]\n"
          ]
        }
      ]
    },
    {
      "cell_type": "code",
      "source": [],
      "metadata": {
        "id": "GgLR4CBpqS94"
      },
      "execution_count": null,
      "outputs": []
    }
  ]
}